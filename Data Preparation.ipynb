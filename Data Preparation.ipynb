{
 "cells": [
  {
   "cell_type": "code",
   "execution_count": 1,
   "id": "c463fb29-70e8-4b64-af86-b0f5f53cb52b",
   "metadata": {},
   "outputs": [],
   "source": [
    "import pandas as pd\n",
    "import numpy as np\n",
    "import os\n",
    "import zipfile\n",
    "import sqlite3"
   ]
  },
  {
   "cell_type": "code",
   "execution_count": 2,
   "id": "dfa25cba-21c0-446e-b118-21e2aafc2d67",
   "metadata": {},
   "outputs": [],
   "source": [
    "zip_file = \"tests_male_csv2.zip\" "
   ]
  },
  {
   "cell_type": "markdown",
   "id": "cb40b9c1-3075-4f28-8c17-8f862183a79d",
   "metadata": {},
   "source": [
    "#### Extract Data"
   ]
  },
  {
   "cell_type": "code",
   "execution_count": 3,
   "id": "4858f26d-08ba-42f5-9c50-568636369a6d",
   "metadata": {},
   "outputs": [],
   "source": [
    "df_list = []\n",
    "\n",
    "with zipfile.ZipFile(zip_file, 'r') as zip_ref:\n",
    "    # Only include CSV files that contain '_info' in the filename\n",
    "    csv_files = [f for f in zip_ref.namelist() if f.endswith('.csv') and '_info' in f]\n",
    "    \n",
    "    for file in csv_files:\n",
    "        with zip_ref.open(file) as f:\n",
    "            df_temp = pd.read_csv(f, header=1, usecols=[0, 1, 2])\n",
    "            df_temp['File Name'] = file\n",
    "            df_list.append(df_temp)\n",
    "\n",
    "df_info = pd.concat(df_list, ignore_index=True)"
   ]
  },
  {
   "cell_type": "code",
   "execution_count": 4,
   "id": "390a6af5-f81c-41b0-a07f-b582237b5794",
   "metadata": {},
   "outputs": [],
   "source": [
    "filter_df = df_info[(df_info['balls_per_over'] == 'team') | (df_info['balls_per_over'] == 'season') | (df_info['balls_per_over'] == 'venue') | (df_info['balls_per_over'] == 'toss_winner') | (df_info['balls_per_over'] == 'toss_decision') | (df_info['balls_per_over'] == 'winner') | (df_info['balls_per_over'] == 'outcome')]"
   ]
  },
  {
   "cell_type": "code",
   "execution_count": 5,
   "id": "35385a29-9045-45ce-856c-f418273335e6",
   "metadata": {},
   "outputs": [
    {
     "name": "stderr",
     "output_type": "stream",
     "text": [
      "C:\\Users\\User\\AppData\\Local\\Temp\\ipykernel_1280\\3305250314.py:1: SettingWithCopyWarning: \n",
      "A value is trying to be set on a copy of a slice from a DataFrame.\n",
      "Try using .loc[row_indexer,col_indexer] = value instead\n",
      "\n",
      "See the caveats in the documentation: https://pandas.pydata.org/pandas-docs/stable/user_guide/indexing.html#returning-a-view-versus-a-copy\n",
      "  filter_df['match_id'] = filter_df['File Name'].apply(lambda x: x.split(\"_\")[0])\n"
     ]
    }
   ],
   "source": [
    "filter_df['match_id'] = filter_df['File Name'].apply(lambda x: x.split(\"_\")[0])"
   ]
  },
  {
   "cell_type": "code",
   "execution_count": 6,
   "id": "8caaeb2d-3326-45c4-87a9-6db6fb52aec9",
   "metadata": {},
   "outputs": [],
   "source": [
    "teams_df = filter_df[filter_df['balls_per_over'] == 'team']"
   ]
  },
  {
   "cell_type": "code",
   "execution_count": 7,
   "id": "a8c82696-3f41-49f3-89b8-c4918132371c",
   "metadata": {},
   "outputs": [
    {
     "name": "stderr",
     "output_type": "stream",
     "text": [
      "C:\\Users\\User\\AppData\\Local\\Temp\\ipykernel_1280\\941047205.py:1: SettingWithCopyWarning: \n",
      "A value is trying to be set on a copy of a slice from a DataFrame.\n",
      "Try using .loc[row_indexer,col_indexer] = value instead\n",
      "\n",
      "See the caveats in the documentation: https://pandas.pydata.org/pandas-docs/stable/user_guide/indexing.html#returning-a-view-versus-a-copy\n",
      "  teams_df['team_number'] = teams_df.groupby('match_id').cumcount() + 1\n"
     ]
    }
   ],
   "source": [
    "teams_df['team_number'] = teams_df.groupby('match_id').cumcount() + 1"
   ]
  },
  {
   "cell_type": "code",
   "execution_count": 8,
   "id": "3e513805-5716-48d5-bc03-59977a808393",
   "metadata": {},
   "outputs": [],
   "source": [
    "teams_pivot = teams_df.pivot(index='match_id', columns='team_number', values='6').reset_index()"
   ]
  },
  {
   "cell_type": "code",
   "execution_count": 9,
   "id": "cdb68699-d7a9-4614-b836-1bb552d3cf9f",
   "metadata": {},
   "outputs": [],
   "source": [
    "teams_pivot.columns = ['match_id', 'team1', 'team2'] "
   ]
  },
  {
   "cell_type": "code",
   "execution_count": 10,
   "id": "e2e9cc57-1492-4b79-9819-1f7eb7e82f60",
   "metadata": {},
   "outputs": [],
   "source": [
    "final_df = filter_df.pivot_table(index='match_id',columns='balls_per_over',values='6',aggfunc='first').reset_index()"
   ]
  },
  {
   "cell_type": "code",
   "execution_count": 11,
   "id": "a7389cc4-bc60-48dd-a3c9-c000d42b93ba",
   "metadata": {},
   "outputs": [],
   "source": [
    "final_df = final_df.merge(teams_pivot, on='match_id')"
   ]
  },
  {
   "cell_type": "code",
   "execution_count": 12,
   "id": "f30f0ea5-7793-47f9-a6b8-8c7bbbde9071",
   "metadata": {},
   "outputs": [],
   "source": [
    "final_df.drop(columns=['team'], inplace=True)"
   ]
  },
  {
   "cell_type": "code",
   "execution_count": 13,
   "id": "22a95983-61fe-4a92-9f12-125d64db13bc",
   "metadata": {},
   "outputs": [],
   "source": [
    "final_df = final_df.fillna({'outcome': 'win'})"
   ]
  },
  {
   "cell_type": "code",
   "execution_count": 14,
   "id": "6f586b97-0ecf-4e32-96d7-b919f4e17baa",
   "metadata": {},
   "outputs": [],
   "source": [
    "def remove_after_comma(text):\n",
    "    if isinstance(text, str):\n",
    "        return text.split(',')[0]\n",
    "    return text"
   ]
  },
  {
   "cell_type": "code",
   "execution_count": 15,
   "id": "63ff4a72-6b9b-4d31-b851-7d0102e96b4f",
   "metadata": {},
   "outputs": [],
   "source": [
    "final_df['venue'] = final_df['venue'].apply(remove_after_comma)"
   ]
  },
  {
   "cell_type": "code",
   "execution_count": 16,
   "id": "115bd01f-6c35-4e74-91e5-17ddc4838ace",
   "metadata": {},
   "outputs": [],
   "source": [
    "stadium_map = {\n",
    "    \"W.A.C.A. Ground\": \"WACA Ground\",\"Western Australia Cricket Association Ground\": \"WACA Ground\",\n",
    "    \"Darren Sammy National Cricket Stadium\": \"Daren Sammy National Cricket Stadium\",\"M.Chinnaswamy Stadium\": \"M Chinnaswamy Stadium\",\n",
    "    \"Zohur Ahmed Chowdhury Stadium\": \"Zahur Ahmed Chowdhury Stadium\",\"R.Premadasa Stadium\": \"R Premadasa Stadium\",\n",
    "    \"P Saravanamuttu Stadium\": \"P Sara Oval\",\"Vidarbha C.A. Ground\": \"Vidarbha Cricket Association Stadium\",\n",
    "    \"New Wanderers Stadium\": \"The Wanderers Stadium\",\"Feroz Shah Kotla\": \"Arun Jaitley Stadium\",\n",
    "    \"Punjab Cricket Association Stadium\": \"Punjab Cricket Association IS Bindra Stadium\",\n",
    "}"
   ]
  },
  {
   "cell_type": "code",
   "execution_count": 17,
   "id": "d648e7f6-2d40-4186-816c-f91009c575fe",
   "metadata": {},
   "outputs": [],
   "source": [
    "final_df['venue'] = final_df['venue'].replace(stadium_map)"
   ]
  },
  {
   "cell_type": "code",
   "execution_count": 18,
   "id": "08888d43-e3c1-4178-b34c-1aa13c251546",
   "metadata": {},
   "outputs": [],
   "source": [
    "def remove_after_slash(text):\n",
    "    if isinstance(text, str):\n",
    "        return text.split('/')[0]\n",
    "    return text"
   ]
  },
  {
   "cell_type": "code",
   "execution_count": 19,
   "id": "d2624d40-b5bf-4f9e-baea-b71b22ae423a",
   "metadata": {},
   "outputs": [],
   "source": [
    "final_df['season'] = final_df['season'].apply(remove_after_slash)"
   ]
  },
  {
   "cell_type": "markdown",
   "id": "ad8459a3-e6a0-4c86-9655-bb0cec54cca6",
   "metadata": {},
   "source": [
    "#### Export Data"
   ]
  },
  {
   "cell_type": "code",
   "execution_count": 21,
   "id": "0fb99733-ee23-4e5a-8bd3-da518f10078b",
   "metadata": {},
   "outputs": [],
   "source": [
    "conn = sqlite3.connect('data.db')\n",
    "final_df.to_sql('train_data', conn, if_exists='replace', index=False)\n",
    "conn.close()"
   ]
  },
  {
   "cell_type": "code",
   "execution_count": null,
   "id": "9a5105a5-0e4c-438e-bb0f-177e6ee74f7e",
   "metadata": {},
   "outputs": [],
   "source": []
  },
  {
   "cell_type": "code",
   "execution_count": null,
   "id": "88f2a453-c355-425e-9e1b-b45de64c798e",
   "metadata": {},
   "outputs": [],
   "source": []
  }
 ],
 "metadata": {
  "kernelspec": {
   "display_name": "Python 3 (ipykernel)",
   "language": "python",
   "name": "python3"
  },
  "language_info": {
   "codemirror_mode": {
    "name": "ipython",
    "version": 3
   },
   "file_extension": ".py",
   "mimetype": "text/x-python",
   "name": "python",
   "nbconvert_exporter": "python",
   "pygments_lexer": "ipython3",
   "version": "3.12.4"
  }
 },
 "nbformat": 4,
 "nbformat_minor": 5
}
